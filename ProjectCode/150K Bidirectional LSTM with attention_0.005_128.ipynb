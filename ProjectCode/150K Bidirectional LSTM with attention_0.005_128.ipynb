{
 "cells": [
  {
   "cell_type": "code",
   "execution_count": 1,
   "id": "1c3395b4",
   "metadata": {
    "executionInfo": {
     "elapsed": 3573,
     "status": "ok",
     "timestamp": 1650810385176,
     "user": {
      "displayName": "Samar Deep",
      "userId": "08355967773439078772"
     },
     "user_tz": 240
    },
    "id": "1b3b845f"
   },
   "outputs": [
    {
     "name": "stderr",
     "output_type": "stream",
     "text": [
      "/N/soft/rhel7/deeplearning/Python-3.10.2/lib/python3.10/site-packages/keras/backend.py:450: UserWarning: `tf.keras.backend.set_learning_phase` is deprecated and will be removed after 2020-10-11. To update it, simply pass a True/False value to the `training` argument of the `__call__` method of your layer or model.\n",
      "  warnings.warn('`tf.keras.backend.set_learning_phase` is deprecated and '\n"
     ]
    }
   ],
   "source": [
    "from rouge_score import rouge_scorer\n",
    "import numpy as np  \n",
    "import pandas as pd \n",
    "import re     \n",
    "import tensorflow as tf\n",
    "import keras\n",
    "from keras.preprocessing.text import Tokenizer \n",
    "from keras.preprocessing.sequence import pad_sequences\n",
    "from tensorflow.keras import backend as k\n",
    "k.set_learning_phase(1)\n",
    "import nltk\n",
    "from nltk.corpus import stopwords  \n",
    "from nltk.tokenize import sent_tokenize\n",
    "from tensorflow.keras.layers import Input, LSTM, Embedding, Dense, Concatenate, TimeDistributed\n",
    "from tensorflow.keras.layers import Dropout, Activation, Add\n",
    "from tensorflow.keras.models import Model\n",
    "from tensorflow.keras.callbacks import EarlyStopping\n",
    "from keras import initializers\n",
    "from tensorflow.keras.optimizers import RMSprop\n",
    "from tensorflow.keras.models import Sequential\n",
    "from sklearn.model_selection import train_test_split\n",
    "import matplotlib.pyplot as plt\n",
    "import time\n",
    "import warnings\n",
    "warnings.filterwarnings(\"ignore\")"
   ]
  },
  {
   "cell_type": "code",
   "execution_count": 2,
   "id": "4be1cbc8",
   "metadata": {
    "executionInfo": {
     "elapsed": 2810,
     "status": "ok",
     "timestamp": 1650810392240,
     "user": {
      "displayName": "Samar Deep",
      "userId": "08355967773439078772"
     },
     "user_tz": 240
    },
    "id": "b96a0fba"
   },
   "outputs": [],
   "source": [
    "#Reading the data set and keeping only 150k rows due to computational limitations\n",
    "train = pd.read_csv(\"train.csv\")\n",
    "train = train.loc[:150000, :]"
   ]
  },
  {
   "cell_type": "code",
   "execution_count": 3,
   "id": "3f67bcdc",
   "metadata": {
    "colab": {
     "base_uri": "https://localhost:8080/",
     "height": 206
    },
    "executionInfo": {
     "elapsed": 115,
     "status": "ok",
     "timestamp": 1650810393537,
     "user": {
      "displayName": "Samar Deep",
      "userId": "08355967773439078772"
     },
     "user_tz": 240
    },
    "id": "209d6529",
    "outputId": "c750eebe-6147-46e2-fceb-0d268369b810"
   },
   "outputs": [
    {
     "data": {
      "text/html": [
       "<div>\n",
       "<style scoped>\n",
       "    .dataframe tbody tr th:only-of-type {\n",
       "        vertical-align: middle;\n",
       "    }\n",
       "\n",
       "    .dataframe tbody tr th {\n",
       "        vertical-align: top;\n",
       "    }\n",
       "\n",
       "    .dataframe thead th {\n",
       "        text-align: right;\n",
       "    }\n",
       "</style>\n",
       "<table border=\"1\" class=\"dataframe\">\n",
       "  <thead>\n",
       "    <tr style=\"text-align: right;\">\n",
       "      <th></th>\n",
       "      <th>id</th>\n",
       "      <th>article</th>\n",
       "      <th>highlights</th>\n",
       "    </tr>\n",
       "  </thead>\n",
       "  <tbody>\n",
       "    <tr>\n",
       "      <th>0</th>\n",
       "      <td>0001d1afc246a7964130f43ae940af6bc6c57f01</td>\n",
       "      <td>By . Associated Press . PUBLISHED: . 14:11 EST...</td>\n",
       "      <td>Bishop John Folda, of North Dakota, is taking ...</td>\n",
       "    </tr>\n",
       "    <tr>\n",
       "      <th>1</th>\n",
       "      <td>0002095e55fcbd3a2f366d9bf92a95433dc305ef</td>\n",
       "      <td>(CNN) -- Ralph Mata was an internal affairs li...</td>\n",
       "      <td>Criminal complaint: Cop used his role to help ...</td>\n",
       "    </tr>\n",
       "    <tr>\n",
       "      <th>2</th>\n",
       "      <td>00027e965c8264c35cc1bc55556db388da82b07f</td>\n",
       "      <td>A drunk driver who killed a young woman in a h...</td>\n",
       "      <td>Craig Eccleston-Todd, 27, had drunk at least t...</td>\n",
       "    </tr>\n",
       "    <tr>\n",
       "      <th>3</th>\n",
       "      <td>0002c17436637c4fe1837c935c04de47adb18e9a</td>\n",
       "      <td>(CNN) -- With a breezy sweep of his pen Presid...</td>\n",
       "      <td>Nina dos Santos says Europe must be ready to a...</td>\n",
       "    </tr>\n",
       "    <tr>\n",
       "      <th>4</th>\n",
       "      <td>0003ad6ef0c37534f80b55b4235108024b407f0b</td>\n",
       "      <td>Fleetwood are the only team still to have a 10...</td>\n",
       "      <td>Fleetwood top of League One after 2-0 win at S...</td>\n",
       "    </tr>\n",
       "  </tbody>\n",
       "</table>\n",
       "</div>"
      ],
      "text/plain": [
       "                                         id  \\\n",
       "0  0001d1afc246a7964130f43ae940af6bc6c57f01   \n",
       "1  0002095e55fcbd3a2f366d9bf92a95433dc305ef   \n",
       "2  00027e965c8264c35cc1bc55556db388da82b07f   \n",
       "3  0002c17436637c4fe1837c935c04de47adb18e9a   \n",
       "4  0003ad6ef0c37534f80b55b4235108024b407f0b   \n",
       "\n",
       "                                             article  \\\n",
       "0  By . Associated Press . PUBLISHED: . 14:11 EST...   \n",
       "1  (CNN) -- Ralph Mata was an internal affairs li...   \n",
       "2  A drunk driver who killed a young woman in a h...   \n",
       "3  (CNN) -- With a breezy sweep of his pen Presid...   \n",
       "4  Fleetwood are the only team still to have a 10...   \n",
       "\n",
       "                                          highlights  \n",
       "0  Bishop John Folda, of North Dakota, is taking ...  \n",
       "1  Criminal complaint: Cop used his role to help ...  \n",
       "2  Craig Eccleston-Todd, 27, had drunk at least t...  \n",
       "3  Nina dos Santos says Europe must be ready to a...  \n",
       "4  Fleetwood top of League One after 2-0 win at S...  "
      ]
     },
     "execution_count": 3,
     "metadata": {},
     "output_type": "execute_result"
    }
   ],
   "source": [
    "train.head()"
   ]
  },
  {
   "cell_type": "code",
   "execution_count": 4,
   "id": "4fa5d453",
   "metadata": {
    "colab": {
     "base_uri": "https://localhost:8080/"
    },
    "executionInfo": {
     "elapsed": 97,
     "status": "ok",
     "timestamp": 1650810395418,
     "user": {
      "displayName": "Samar Deep",
      "userId": "08355967773439078772"
     },
     "user_tz": 240
    },
    "id": "b6ac72c5",
    "outputId": "36502b0f-bd4a-4c78-879c-1b028f9645fa"
   },
   "outputs": [
    {
     "name": "stdout",
     "output_type": "stream",
     "text": [
      "[\"By . Associated Press . PUBLISHED: . 14:11 EST, 25 October 2013 . | . UPDATED: . 15:36 EST, 25 October 2013 . The bishop of the Fargo Catholic Diocese in North Dakota has exposed potentially hundreds of church members in Fargo, Grand Forks and Jamestown to the hepatitis A virus in late September and early October. The state Health Department has issued an advisory of exposure for anyone who attended five churches and took communion. Bishop John Folda (pictured) of the Fargo Catholic Diocese in North Dakota has exposed potentially hundreds of church members in Fargo, Grand Forks and Jamestown to the hepatitis A . State Immunization Program Manager Molly Howell says the risk is low, but officials feel it's important to alert people to the possible exposure. The diocese announced on Monday that Bishop John Folda is taking time off after being diagnosed with hepatitis A. The diocese says he contracted the infection through contaminated food while attending a conference for newly ordained bishops in Italy last month. Symptoms of hepatitis A include fever, tiredness, loss of appetite, nausea and abdominal discomfort. Fargo Catholic Diocese in North Dakota (pictured) is where the bishop is located .\"]\n",
      "['Bishop John Folda, of North Dakota, is taking time off after being diagnosed .\\nHe contracted the infection through contaminated food in Italy .\\nChurch members in Fargo, Grand Forks and Jamestown could have been exposed .']\n"
     ]
    }
   ],
   "source": [
    "print(train[\"article\"].head(1).values)\n",
    "print(train[\"highlights\"].head(1).values)"
   ]
  },
  {
   "cell_type": "code",
   "execution_count": 5,
   "id": "0ddc7177",
   "metadata": {
    "colab": {
     "base_uri": "https://localhost:8080/"
    },
    "executionInfo": {
     "elapsed": 100,
     "status": "ok",
     "timestamp": 1650810396353,
     "user": {
      "displayName": "Samar Deep",
      "userId": "08355967773439078772"
     },
     "user_tz": 240
    },
    "id": "c47cc134",
    "outputId": "331d8237-9578-412b-afac-0cea02e0b757"
   },
   "outputs": [
    {
     "data": {
      "text/plain": [
       "(150001, 3)"
      ]
     },
     "execution_count": 5,
     "metadata": {},
     "output_type": "execute_result"
    }
   ],
   "source": [
    "train.shape"
   ]
  },
  {
   "cell_type": "code",
   "execution_count": 6,
   "id": "59f979c3",
   "metadata": {
    "executionInfo": {
     "elapsed": 906,
     "status": "ok",
     "timestamp": 1650810398143,
     "user": {
      "displayName": "Samar Deep",
      "userId": "08355967773439078772"
     },
     "user_tz": 240
    },
    "id": "3e862844"
   },
   "outputs": [],
   "source": [
    "#Removing the string \"(CNN) -- \"\n",
    "str_to_remove = '(CNN) -- '\n",
    "for i in range(len(train)):\n",
    "    index = train['article'][i].find(str_to_remove)\n",
    "    if index != -1:\n",
    "        train['article'][i] = train['article'][i][index + len(str_to_remove):]\n"
   ]
  },
  {
   "cell_type": "code",
   "execution_count": 7,
   "id": "b731c88f",
   "metadata": {
    "executionInfo": {
     "elapsed": 110,
     "status": "ok",
     "timestamp": 1650810399462,
     "user": {
      "displayName": "Samar Deep",
      "userId": "08355967773439078772"
     },
     "user_tz": 240
    },
    "id": "8dc0b872"
   },
   "outputs": [],
   "source": [
    "#list of contractions\n",
    "contraction_mapping = {\n",
    "                       \"ain't\": \"is not\", \"aren't\": \"are not\",\"can't\": \"cannot\", \"'cause\": \"because\", \"could've\": \"could have\", \"couldn't\": \"could not\",\n",
    "                       \"didn't\": \"did not\", \"doesn't\": \"does not\", \"don't\": \"do not\", \"hadn't\": \"had not\", \"hasn't\": \"has not\", \"haven't\": \"have not\",\n",
    "                       \"he'd\": \"he would\",\"he'll\": \"he will\", \"he's\": \"he is\", \"how'd\": \"how did\", \"how'd'y\": \"how do you\", \"how'll\": \"how will\", \"how's\": \"how is\",\n",
    "                       \"I'd\": \"I would\", \"I'd've\": \"I would have\", \"I'll\": \"I will\", \"I'll've\": \"I will have\",\"I'm\": \"I am\", \"I've\": \"I have\", \"i'd\": \"i would\",\n",
    "                       \"i'd've\": \"i would have\", \"i'll\": \"i will\",  \"i'll've\": \"i will have\",\"i'm\": \"i am\", \"i've\": \"i have\", \"isn't\": \"is not\", \"it'd\": \"it would\",\n",
    "                       \"it'd've\": \"it would have\", \"it'll\": \"it will\", \"it'll've\": \"it will have\",\"it's\": \"it is\", \"let's\": \"let us\", \"ma'am\": \"madam\",\n",
    "                       \"mayn't\": \"may not\", \"might've\": \"might have\",\"mightn't\": \"might not\",\"mightn't've\": \"might not have\", \"must've\": \"must have\",\n",
    "                       \"mustn't\": \"must not\", \"mustn't've\": \"must not have\", \"needn't\": \"need not\", \"needn't've\": \"need not have\",\"o'clock\": \"of the clock\",\n",
    "                       \"oughtn't\": \"ought not\", \"oughtn't've\": \"ought not have\", \"shan't\": \"shall not\", \"sha'n't\": \"shall not\", \"shan't've\": \"shall not have\",\n",
    "                       \"she'd\": \"she would\", \"she'd've\": \"she would have\", \"she'll\": \"she will\", \"she'll've\": \"she will have\", \"she's\": \"she is\",\n",
    "                       \"should've\": \"should have\", \"shouldn't\": \"should not\", \"shouldn't've\": \"should not have\", \"so've\": \"so have\",\"so's\": \"so as\",\n",
    "                       \"this's\": \"this is\",\"that'd\": \"that would\", \"that'd've\": \"that would have\", \"that's\": \"that is\", \"there'd\": \"there would\",\n",
    "                       \"there'd've\": \"there would have\", \"there's\": \"there is\", \"here's\": \"here is\",\"they'd\": \"they would\", \"they'd've\": \"they would have\",\n",
    "                       \"they'll\": \"they will\", \"they'll've\": \"they will have\", \"they're\": \"they are\", \"they've\": \"they have\", \"to've\": \"to have\",\n",
    "                       \"wasn't\": \"was not\", \"we'd\": \"we would\", \"we'd've\": \"we would have\", \"we'll\": \"we will\", \"we'll've\": \"we will have\", \"we're\": \"we are\",\n",
    "                       \"we've\": \"we have\", \"weren't\": \"were not\", \"what'll\": \"what will\", \"what'll've\": \"what will have\", \"what're\": \"what are\",\n",
    "                       \"what's\": \"what is\", \"what've\": \"what have\", \"when's\": \"when is\", \"when've\": \"when have\", \"where'd\": \"where did\", \"where's\": \"where is\",\n",
    "                       \"where've\": \"where have\", \"who'll\": \"who will\", \"who'll've\": \"who will have\", \"who's\": \"who is\", \"who've\": \"who have\",\n",
    "                       \"why's\": \"why is\", \"why've\": \"why have\", \"will've\": \"will have\", \"won't\": \"will not\", \"won't've\": \"will not have\",\n",
    "                       \"would've\": \"would have\", \"wouldn't\": \"would not\", \"wouldn't've\": \"would not have\", \"y'all\": \"you all\",\n",
    "                       \"y'all'd\": \"you all would\",\"y'all'd've\": \"you all would have\",\"y'all're\": \"you all are\",\"y'all've\": \"you all have\",\n",
    "                       \"you'd\": \"you would\", \"you'd've\": \"you would have\", \"you'll\": \"you will\", \"you'll've\": \"you will have\",\n",
    "                       \"you're\": \"you are\", \"you've\": \"you have\"\n",
    "                      }"
   ]
  },
  {
   "cell_type": "code",
   "execution_count": 8,
   "id": "c660d632",
   "metadata": {
    "colab": {
     "base_uri": "https://localhost:8080/"
    },
    "executionInfo": {
     "elapsed": 12038,
     "status": "ok",
     "timestamp": 1650810412458,
     "user": {
      "displayName": "Samar Deep",
      "userId": "08355967773439078772"
     },
     "user_tz": 240
    },
    "id": "bbfe36b5",
    "outputId": "ecef8e14-f638-4067-c876-5c5d2412254b"
   },
   "outputs": [],
   "source": [
    "#Removing contractions from articles and summaries\n",
    "for i in range(len(train)):\n",
    "    for word in train['article'][i].split():\n",
    "        word_lower = word.lower()\n",
    "        if word_lower in contraction_mapping:\n",
    "            train['article'][i] = train['article'][i].replace(word, contraction_mapping[word_lower])\n",
    "    for word in train['highlights'][i].split():\n",
    "        word_lower = word.lower()\n",
    "        if word in contraction_mapping:\n",
    "            train['highlights'][i] = train['highlights'][i].replace(word, contraction_mapping[word_lower])\n"
   ]
  },
  {
   "cell_type": "code",
   "execution_count": 9,
   "id": "f1b9571c",
   "metadata": {
    "executionInfo": {
     "elapsed": 106,
     "status": "ok",
     "timestamp": 1650810418060,
     "user": {
      "displayName": "Samar Deep",
      "userId": "08355967773439078772"
     },
     "user_tz": 240
    },
    "id": "5389a7e7"
   },
   "outputs": [],
   "source": [
    "#Function to remove stopwords\n",
    "def remove_stopwords(sent, stop):\n",
    "    sent_new = \" \".join([i for i in sent if i not in stop])\n",
    "    return sent_new"
   ]
  },
  {
   "cell_type": "code",
   "execution_count": 10,
   "id": "6f018d8f",
   "metadata": {},
   "outputs": [],
   "source": [
    "#List of stopwords\n",
    "stop_words = [\"i\", \"me\", \"my\", \"myself\", \"we\", \"our\", \"ours\", \"ourselves\", \"you\", \"your\", \"yours\", \"yourself\", \"yourselves\", \"he\", \"him\", \"his\", \"himself\", \"she\", \"her\", \"hers\", \"herself\", \"it\", \"its\", \"itself\", \"they\", \"them\", \"their\", \"theirs\", \"themselves\", \"what\", \"which\", \"who\", \"whom\", \"this\", \"that\", \"these\", \"those\", \"am\", \"is\", \"are\", \"was\", \"were\", \"be\", \"been\", \"being\", \"have\", \"has\", \"had\", \"having\", \"do\", \"does\", \"did\", \"doing\", \"a\", \"an\", \"the\", \"and\", \"but\", \"if\", \"or\", \"because\", \"as\", \"until\", \"while\", \"of\", \"at\", \"by\", \"for\", \"with\", \"about\", \"against\", \"between\", \"into\", \"through\", \"during\", \"before\", \"after\", \"above\", \"below\", \"to\", \"from\", \"up\", \"down\", \"in\", \"out\", \"on\", \"off\", \"over\", \"under\", \"again\", \"further\", \"then\", \"once\",\n",
    "             \"here\", \"there\", \"when\", \"where\", \"why\", \"how\", \"all\", \"any\", \"both\", \"each\", \"few\", \"more\", \"most\", \"other\", \"some\", \"such\", \"no\", \"nor\", \"not\", \"only\", \"own\", \"same\", \"so\", \"than\", \"too\", \"very\", \"s\", \"t\", \"can\", \"will\", \"just\", \"don\", \"should\", \"now\"]"
   ]
  },
  {
   "cell_type": "code",
   "execution_count": 11,
   "id": "04503532",
   "metadata": {
    "colab": {
     "base_uri": "https://localhost:8080/"
    },
    "executionInfo": {
     "elapsed": 17407,
     "status": "ok",
     "timestamp": 1650810436296,
     "user": {
      "displayName": "Samar Deep",
      "userId": "08355967773439078772"
     },
     "user_tz": 240
    },
    "id": "37d8715b",
    "outputId": "43d83a41-b152-408a-975a-351c644994c2"
   },
   "outputs": [],
   "source": [
    "#Removing punctuations and stopwords from the articles and summaries\n",
    "new_article = []\n",
    "new_sum = []\n",
    "\n",
    "for i in range(len(train)):\n",
    "    art_without_punc = re.sub(r'[^\\w\\s]','',train['article'][i])\n",
    "    clean_article = [remove_stopwords(art_without_punc.split(), stop_words)]\n",
    "    new_article.append(clean_article)\n",
    "\n",
    "    sum_without_punc = re.sub(r'[^\\w\\s]','',train['highlights'][i])\n",
    "    clean_sum = [remove_stopwords(sum_without_punc.split(), stop_words)]\n",
    "    new_sum.append(clean_sum)"
   ]
  },
  {
   "cell_type": "code",
   "execution_count": 12,
   "id": "08bca17a",
   "metadata": {
    "executionInfo": {
     "elapsed": 194,
     "status": "ok",
     "timestamp": 1650810437822,
     "user": {
      "displayName": "Samar Deep",
      "userId": "08355967773439078772"
     },
     "user_tz": 240
    },
    "id": "6115a2e5"
   },
   "outputs": [],
   "source": [
    "for i in range(len(new_article)):\n",
    "    new_article[i] = str(new_article[i])[2:-2]\n",
    "    new_sum[i] = str(new_sum[i])[2:-2]"
   ]
  },
  {
   "cell_type": "code",
   "execution_count": 13,
   "id": "932fc0d0",
   "metadata": {
    "colab": {
     "base_uri": "https://localhost:8080/"
    },
    "executionInfo": {
     "elapsed": 2,
     "status": "ok",
     "timestamp": 1650810439760,
     "user": {
      "displayName": "Samar Deep",
      "userId": "08355967773439078772"
     },
     "user_tz": 240
    },
    "id": "c0abe091",
    "outputId": "f4879a4a-14d6-4d6f-822e-0a405ef3444e"
   },
   "outputs": [],
   "source": [
    "train['new_article'] = new_article\n",
    "train['new_sum'] = new_sum"
   ]
  },
  {
   "cell_type": "code",
   "execution_count": 14,
   "id": "2d4f5d4f",
   "metadata": {
    "colab": {
     "base_uri": "https://localhost:8080/",
     "height": 281
    },
    "executionInfo": {
     "elapsed": 730,
     "status": "ok",
     "timestamp": 1650810440875,
     "user": {
      "displayName": "Samar Deep",
      "userId": "08355967773439078772"
     },
     "user_tz": 240
    },
    "id": "415ec2d6",
    "outputId": "fac58b04-df52-4f43-fc3c-6f30771b856a"
   },
   "outputs": [],
   "source": [
    "#Creating a new data frame of article and summary length (by word count)\n",
    "text_word_count = []\n",
    "summary_word_count = []\n",
    "\n",
    "for i in range(len(train['new_article'])):\n",
    "      text_word_count.append(len(train['new_article'][i].split()))\n",
    "\n",
    "for i in range(len(train['new_sum'])):\n",
    "      summary_word_count.append(len(train['new_sum'][i].split()))\n",
    "\n",
    "length_df = pd.DataFrame({'text':text_word_count, 'summary':summary_word_count})"
   ]
  },
  {
   "cell_type": "code",
   "execution_count": 15,
   "id": "f9b35b82",
   "metadata": {
    "colab": {
     "base_uri": "https://localhost:8080/",
     "height": 518
    },
    "executionInfo": {
     "elapsed": 293,
     "status": "ok",
     "timestamp": 1650810443632,
     "user": {
      "displayName": "Samar Deep",
      "userId": "08355967773439078772"
     },
     "user_tz": 240
    },
    "id": "7444ca09",
    "outputId": "26ac962b-976b-4ff4-e628-4f4807e81208"
   },
   "outputs": [
    {
     "data": {
      "image/png": "[encoded data removed]",
      "text/plain": [
       "<Figure size 720x576 with 1 Axes>"
      ]
     },
     "metadata": {
      "needs_background": "light"
     },
     "output_type": "display_data"
    }
   ],
   "source": [
    "plt.figure(figsize = (10, 8))\n",
    "plt.hist(length_df['text'], bins = 50)\n",
    "plt.show()"
   ]
  },
  {
   "cell_type": "code",
   "execution_count": 16,
   "id": "5ef85fde",
   "metadata": {},
   "outputs": [
    {
     "data": {
      "image/png": "[encoded data removed]",
      "text/plain": [
       "<Figure size 720x576 with 1 Axes>"
      ]
     },
     "metadata": {
      "needs_background": "light"
     },
     "output_type": "display_data"
    }
   ],
   "source": [
    "plt.figure(figsize = (10, 8))\n",
    "plt.hist(length_df['summary'], bins = 50)\n",
    "plt.show()"
   ]
  },
  {
   "cell_type": "code",
   "execution_count": 17,
   "id": "88010dd4",
   "metadata": {
    "executionInfo": {
     "elapsed": 76,
     "status": "ok",
     "timestamp": 1650810444605,
     "user": {
      "displayName": "Samar Deep",
      "userId": "08355967773439078772"
     },
     "user_tz": 240
    },
    "id": "4430acb1"
   },
   "outputs": [],
   "source": [
    "max_len_article = 900 #Maximum length of article to keep\n",
    "max_len_summary = 70 #Maximum length of summary to keep"
   ]
  },
  {
   "cell_type": "code",
   "execution_count": 19,
   "id": "8561420e",
   "metadata": {
    "executionInfo": {
     "elapsed": 529,
     "status": "ok",
     "timestamp": 1650810446719,
     "user": {
      "displayName": "Samar Deep",
      "userId": "08355967773439078772"
     },
     "user_tz": 240
    },
    "id": "5dKcOAwWbdBg"
   },
   "outputs": [],
   "source": [
    "short_text = []\n",
    "short_summary = []\n",
    "\n",
    "# Filtering out the articles with length < max_len_article and summaries with length < max_len_summary\n",
    "for i in range(len(train)):\n",
    "    if (len(train['new_article'][i].split()) <= max_len_article and len(train['new_sum'][i].split()) <= max_len_summary):\n",
    "        short_text.append(train['new_article'][i])\n",
    "        short_summary.append(train['new_sum'][i])\n",
    "\n",
    "df = pd.DataFrame({\"article\": short_text, \"summary\": short_summary})"
   ]
  },
  {
   "cell_type": "code",
   "execution_count": 20,
   "id": "9bebfcb3",
   "metadata": {},
   "outputs": [],
   "source": [
    "#Adding start of string and end of string tokens to summary\n",
    "df['summary'] = df['summary'].apply(lambda x: 'sostok ' + x + ' eostok')"
   ]
  },
  {
   "cell_type": "code",
   "execution_count": 21,
   "id": "bf6105f9",
   "metadata": {
    "executionInfo": {
     "elapsed": 104,
     "status": "ok",
     "timestamp": 1650810448468,
     "user": {
      "displayName": "Samar Deep",
      "userId": "08355967773439078772"
     },
     "user_tz": 240
    },
    "id": "df62d017"
   },
   "outputs": [],
   "source": [
    "# Splitting the data into train and validation sets\n",
    "X_train, X_val, y_train, y_val = train_test_split(df['article'], df['summary'], \n",
    "                                                  test_size = 0.1, random_state = 42, shuffle = True)"
   ]
  },
  {
   "cell_type": "code",
   "execution_count": 22,
   "id": "da185f76",
   "metadata": {
    "colab": {
     "base_uri": "https://localhost:8080/"
    },
    "executionInfo": {
     "elapsed": 3273,
     "status": "ok",
     "timestamp": 1650810454011,
     "user": {
      "displayName": "Samar Deep",
      "userId": "08355967773439078772"
     },
     "user_tz": 240
    },
    "id": "cSVy-TIzeT4p",
    "outputId": "32bdc091-1ded-4373-c664-c62d81c223b1"
   },
   "outputs": [],
   "source": [
    "# Tokenizing the article words to integers\n",
    "x_tokenizer = Tokenizer() \n",
    "x_tokenizer.fit_on_texts(list(X_train))\n",
    "\n",
    "thresh=4\n",
    "\n",
    "cnt=0\n",
    "tot_cnt=0\n",
    "freq=0\n",
    "tot_freq=0\n",
    "\n",
    "for key,value in x_tokenizer.word_counts.items():\n",
    "    tot_cnt=tot_cnt+1\n",
    "    tot_freq=tot_freq+value\n",
    "    if(value<thresh):\n",
    "        cnt=cnt+1\n",
    "        freq=freq+value\n"
   ]
  },
  {
   "cell_type": "code",
   "execution_count": 23,
   "id": "084de966",
   "metadata": {
    "colab": {
     "base_uri": "https://localhost:8080/"
    },
    "executionInfo": {
     "elapsed": 5788,
     "status": "ok",
     "timestamp": 1650810462621,
     "user": {
      "displayName": "Samar Deep",
      "userId": "08355967773439078772"
     },
     "user_tz": 240
    },
    "id": "289184e1",
    "outputId": "4c1c34e8-94e9-4772-9e10-3f3d0c5c7720"
   },
   "outputs": [
    {
     "data": {
      "text/plain": [
       "475228"
      ]
     },
     "execution_count": 23,
     "metadata": {},
     "output_type": "execute_result"
    }
   ],
   "source": [
    "VOCAB_SIZE = tot_cnt - cnt\n",
    "art_tokenizer = Tokenizer(num_words= VOCAB_SIZE)\n",
    "art_tokenizer.fit_on_texts(list(X_train))\n",
    "\n",
    "# Converting sentences to integer sequences\n",
    "X_train_seq = art_tokenizer.texts_to_sequences(X_train)\n",
    "X_val_seq = art_tokenizer.texts_to_sequences(X_val)\n",
    "\n",
    "# Padding the remaining spaces with 0\n",
    "X_train = pad_sequences(X_train_seq, maxlen = max_len_article, padding = \"post\", truncating = \"post\")\n",
    "X_val = pad_sequences(X_val_seq, maxlen = max_len_article, padding = \"post\", truncating = \"post\")\n",
    "\n",
    "X_voc_size = len(art_tokenizer.word_index) + 1\n",
    "X_voc_size # The size of article vocabulary "
   ]
  },
  {
   "cell_type": "code",
   "execution_count": 24,
   "id": "c68fcd6e",
   "metadata": {
    "colab": {
     "base_uri": "https://localhost:8080/"
    },
    "executionInfo": {
     "elapsed": 411,
     "status": "ok",
     "timestamp": 1650810463013,
     "user": {
      "displayName": "Samar Deep",
      "userId": "08355967773439078772"
     },
     "user_tz": 240
    },
    "id": "ed9Pn9NSfJSc",
    "outputId": "31c27e3e-f4d0-466e-9c44-8332824eac68"
   },
   "outputs": [],
   "source": [
    "# Tokenizing the summary to integers\n",
    "y_tokenizer = Tokenizer()   \n",
    "y_tokenizer.fit_on_texts(list(y_train))\n",
    "\n",
    "thresh= 6 \n",
    "\n",
    "cnt=0\n",
    "tot_cnt=0\n",
    "freq=0\n",
    "tot_freq=0\n",
    "\n",
    "for key,value in y_tokenizer.word_counts.items():\n",
    "    tot_cnt=tot_cnt+1\n",
    "    tot_freq=tot_freq+value\n",
    "    if(value<thresh):\n",
    "        cnt=cnt+1\n",
    "        freq=freq+value\n"
   ]
  },
  {
   "cell_type": "code",
   "execution_count": 25,
   "id": "cdbe930b",
   "metadata": {
    "colab": {
     "base_uri": "https://localhost:8080/"
    },
    "executionInfo": {
     "elapsed": 746,
     "status": "ok",
     "timestamp": 1650810482930,
     "user": {
      "displayName": "Samar Deep",
      "userId": "08355967773439078772"
     },
     "user_tz": 240
    },
    "id": "3ba583da",
    "outputId": "8888ba81-46d3-46f8-f05b-44a00c4fd44b"
   },
   "outputs": [
    {
     "data": {
      "text/plain": [
       "136401"
      ]
     },
     "execution_count": 25,
     "metadata": {},
     "output_type": "execute_result"
    }
   ],
   "source": [
    "VOCAB_SIZE_SUMM = tot_cnt - cnt\n",
    "sum_tokenizer = Tokenizer(num_words = VOCAB_SIZE_SUMM)\n",
    "sum_tokenizer.fit_on_texts(list(y_train))\n",
    "\n",
    "y_train_seq = sum_tokenizer.texts_to_sequences(y_train)\n",
    "y_val_seq = sum_tokenizer.texts_to_sequences(y_val)\n",
    "\n",
    "y_train = pad_sequences(y_train_seq, maxlen = max_len_summary, padding = \"post\", truncating = \"post\")\n",
    "y_val = pad_sequences(y_val_seq, maxlen = max_len_summary, padding = \"post\", truncating = \"post\")\n",
    "\n",
    "y_voc_size = len(sum_tokenizer.word_index) + 1\n",
    "y_voc_size"
   ]
  },
  {
   "cell_type": "code",
   "execution_count": 26,
   "id": "3a2ae359",
   "metadata": {},
   "outputs": [],
   "source": [
    "# Global Attention mechanism class available at\n",
    "# https://github.com/thushv89/attention_keras/blob/master/src/layers/attention.py\n",
    "class AttentionLayer(tf.keras.layers.Layer):\n",
    "    \"\"\"\n",
    "    This class implements Bahdanau attention (https://arxiv.org/pdf/1409.0473.pdf).\n",
    "    There are three sets of weights introduced W_a, U_a, and V_a\n",
    "     \"\"\"\n",
    "\n",
    "    def __init__(self, **kwargs):\n",
    "        super(AttentionLayer, self).__init__(**kwargs)\n",
    "\n",
    "    def build(self, input_shape):\n",
    "        assert isinstance(input_shape, list)\n",
    "        # Create a trainable weight variable for this layer.\n",
    "\n",
    "        self.W_a = self.add_weight(name='W_a',\n",
    "                                   shape=tf.TensorShape((input_shape[0][2], input_shape[0][2])),\n",
    "                                   initializer='uniform',\n",
    "                                   trainable=True)\n",
    "        self.U_a = self.add_weight(name='U_a',\n",
    "                                   shape=tf.TensorShape((input_shape[1][2], input_shape[0][2])),\n",
    "                                   initializer='uniform',\n",
    "                                   trainable=True)\n",
    "        self.V_a = self.add_weight(name='V_a',\n",
    "                                   shape=tf.TensorShape((input_shape[0][2], 1)),\n",
    "                                   initializer='uniform',\n",
    "                                   trainable=True)\n",
    "\n",
    "        super(AttentionLayer, self).build(input_shape)  # Be sure to call this at the end\n",
    "\n",
    "    def call(self, inputs, verbose=False):\n",
    "        \"\"\"\n",
    "        inputs: [encoder_output_sequence, decoder_output_sequence]\n",
    "        \"\"\"\n",
    "        assert type(inputs) == list\n",
    "        encoder_out_seq, decoder_out_seq = inputs\n",
    "        if verbose:\n",
    "            print('encoder_out_seq>', encoder_out_seq.shape)\n",
    "            print('decoder_out_seq>', decoder_out_seq.shape)\n",
    "\n",
    "        def energy_step(inputs, states):\n",
    "            \"\"\" Step function for computing energy for a single decoder state\n",
    "            inputs: (batchsize * 1 * de_in_dim)\n",
    "            states: (batchsize * 1 * de_latent_dim)\n",
    "            \"\"\"\n",
    "\n",
    "            assert_msg = \"States must be an iterable. Got {} of type {}\".format(states, type(states))\n",
    "            assert isinstance(states, list) or isinstance(states, tuple), assert_msg\n",
    "\n",
    "            \"\"\" Some parameters required for shaping tensors\"\"\"\n",
    "            en_seq_len, en_hidden = encoder_out_seq.shape[1], encoder_out_seq.shape[2]\n",
    "            de_hidden = inputs.shape[-1]\n",
    "\n",
    "            \"\"\" Computing S.Wa where S=[s0, s1, ..., si]\"\"\"\n",
    "            # <= batch size * en_seq_len * latent_dim\n",
    "            W_a_dot_s = k.dot(encoder_out_seq, self.W_a)\n",
    "\n",
    "            \"\"\" Computing hj.Ua \"\"\"\n",
    "            U_a_dot_h = k.expand_dims(k.dot(inputs, self.U_a), 1)  # <= batch_size, 1, latent_dim\n",
    "            if verbose:\n",
    "                print('Ua.h>', U_a_dot_h.shape)\n",
    "\n",
    "            \"\"\" tanh(S.Wa + hj.Ua) \"\"\"\n",
    "            # <= batch_size*en_seq_len, latent_dim\n",
    "            Ws_plus_Uh = k.tanh(W_a_dot_s + U_a_dot_h)\n",
    "            if verbose:\n",
    "                print('Ws+Uh>', Ws_plus_Uh.shape)\n",
    "\n",
    "            \"\"\" softmax(va.tanh(S.Wa + hj.Ua)) \"\"\"\n",
    "            # <= batch_size, en_seq_len\n",
    "            e_i = k.squeeze(k.dot(Ws_plus_Uh, self.V_a), axis=-1)\n",
    "            # <= batch_size, en_seq_len\n",
    "            e_i = k.softmax(e_i)\n",
    "\n",
    "            if verbose:\n",
    "                print('ei>', e_i.shape)\n",
    "\n",
    "            return e_i, [e_i]\n",
    "\n",
    "        def context_step(inputs, states):\n",
    "            \"\"\" Step function for computing ci using ei \"\"\"\n",
    "\n",
    "            assert_msg = \"States must be an iterable. Got {} of type {}\".format(states, type(states))\n",
    "            assert isinstance(states, list) or isinstance(states, tuple), assert_msg\n",
    "\n",
    "            # <= batch_size, hidden_size\n",
    "            c_i = k.sum(encoder_out_seq * k.expand_dims(inputs, -1), axis=1)\n",
    "            if verbose:\n",
    "                print('ci>', c_i.shape)\n",
    "            return c_i, [c_i]\n",
    "\n",
    "        fake_state_c = k.sum(encoder_out_seq, axis=1)\n",
    "        fake_state_e = k.sum(encoder_out_seq, axis=2)  # <= (batch_size, enc_seq_len, latent_dim\n",
    "\n",
    "        \"\"\" Computing energy outputs \"\"\"\n",
    "        # e_outputs => (batch_size, de_seq_len, en_seq_len)\n",
    "        last_out, e_outputs, _ = k.rnn(\n",
    "            energy_step, decoder_out_seq, [fake_state_e],\n",
    "        )\n",
    "\n",
    "        \"\"\" Computing context vectors \"\"\"\n",
    "        last_out, c_outputs, _ = k.rnn(\n",
    "            context_step, e_outputs, [fake_state_c],\n",
    "        )\n",
    "\n",
    "        return c_outputs, e_outputs\n",
    "\n",
    "    def compute_output_shape(self, input_shape):\n",
    "        \"\"\" Outputs produced by the layer \"\"\"\n",
    "        return [\n",
    "            tf.TensorShape((input_shape[1][0], input_shape[1][1], input_shape[1][2])),\n",
    "            tf.TensorShape((input_shape[1][0], input_shape[1][1], input_shape[0][1]))\n",
    "        ]"
   ]
  },
  {
   "cell_type": "code",
   "execution_count": 27,
   "id": "910643de",
   "metadata": {
    "executionInfo": {
     "elapsed": 92,
     "status": "ok",
     "timestamp": 1650810557801,
     "user": {
      "displayName": "Samar Deep",
      "userId": "08355967773439078772"
     },
     "user_tz": 240
    },
    "id": "b5922139"
   },
   "outputs": [],
   "source": [
    "EMBEDDING_DIM = 500 # Number of dimension for each word vector\n",
    "HIDDEN_UNITS = 150 # number of hidden units in LSTM cell"
   ]
  },
  {
   "cell_type": "code",
   "execution_count": 28,
   "id": "63e75759",
   "metadata": {},
   "outputs": [
    {
     "name": "stderr",
     "output_type": "stream",
     "text": [
      "2022-05-01 22:11:52.493115: I tensorflow/core/platform/cpu_feature_guard.cc:151] This TensorFlow binary is optimized with oneAPI Deep Neural Network Library (oneDNN) to use the following CPU instructions in performance-critical operations:  AVX2 AVX512F FMA\n",
      "To enable them in other operations, rebuild TensorFlow with the appropriate compiler flags.\n",
      "2022-05-01 22:11:56.172945: I tensorflow/core/common_runtime/gpu/gpu_device.cc:1525] Created device /job:localhost/replica:0/task:0/device:GPU:0 with 30989 MB memory:  -> device: 0, name: Tesla V100-PCIE-32GB, pci bus id: 0000:b2:00.0, compute capability: 7.0\n"
     ]
    }
   ],
   "source": [
    "# Encoder Layer\n",
    "encoder_inputs = Input(shape = (max_len_article, ))\n",
    "# Encoder input embeddings\n",
    "encoder_embedding = Embedding(X_voc_size, EMBEDDING_DIM)(encoder_inputs)"
   ]
  },
  {
   "cell_type": "code",
   "execution_count": 29,
   "id": "cb7c1f83",
   "metadata": {},
   "outputs": [
    {
     "data": {
      "text/plain": [
       "<KerasTensor: shape=(None, 900, 500) dtype=float32 (created by layer 'embedding')>"
      ]
     },
     "execution_count": 29,
     "metadata": {},
     "output_type": "execute_result"
    }
   ],
   "source": [
    "encoder_embedding"
   ]
  },
  {
   "cell_type": "code",
   "execution_count": 30,
   "id": "c3cf00dd",
   "metadata": {},
   "outputs": [],
   "source": [
    "#Bidirectional Encoder LSTM\n",
    "encoder_LSTM = LSTM(HIDDEN_UNITS, return_state = True, return_sequences = True)\n",
    "encoder_LSTM_R = LSTM(HIDDEN_UNITS, return_state = True, go_backwards = True, return_sequences = True)\n",
    "encoder_outputs_R, state_h_R, state_c_R = encoder_LSTM_R(encoder_embedding)\n",
    "encoder_outputs, state_h, state_c = encoder_LSTM(encoder_embedding)\n",
    "\n",
    "final_h = Add()([state_h, state_h_R]) # Hidden States of Bidirectional LSTM\n",
    "final_c = Add()([state_c, state_c_R]) # Cell States of Bidirectional LSTM\n",
    "encoder_outputs_final = Add()([encoder_outputs, encoder_outputs_R])\n",
    "encoder_states = [final_h, final_c]"
   ]
  },
  {
   "cell_type": "code",
   "execution_count": 31,
   "id": "fcd1ae4f",
   "metadata": {},
   "outputs": [
    {
     "data": {
      "text/plain": [
       "<KerasTensor: shape=(None, 900, 150) dtype=float32 (created by layer 'add_2')>"
      ]
     },
     "execution_count": 31,
     "metadata": {},
     "output_type": "execute_result"
    }
   ],
   "source": [
    "encoder_outputs_final"
   ]
  },
  {
   "cell_type": "code",
   "execution_count": 32,
   "id": "d6b643d2",
   "metadata": {},
   "outputs": [],
   "source": [
    "# Decoder Layer\n",
    "decoder_inputs = Input(shape = (None,))\n",
    "decoder_emb = Embedding(y_voc_size, EMBEDDING_DIM)\n",
    "decoder_embedding = decoder_emb(decoder_inputs)"
   ]
  },
  {
   "cell_type": "code",
   "execution_count": 33,
   "id": "8d224a72",
   "metadata": {},
   "outputs": [
    {
     "data": {
      "text/plain": [
       "<KerasTensor: shape=(None, None, 500) dtype=float32 (created by layer 'embedding_1')>"
      ]
     },
     "execution_count": 33,
     "metadata": {},
     "output_type": "execute_result"
    }
   ],
   "source": [
    "decoder_embedding"
   ]
  },
  {
   "cell_type": "code",
   "execution_count": 34,
   "id": "8f7ce1ab",
   "metadata": {},
   "outputs": [],
   "source": [
    "# Decoder LSTM\n",
    "decoder_LSTM = LSTM(HIDDEN_UNITS, return_sequences = True, return_state = True, dropout = 0.4, recurrent_dropout= 0)\n",
    "decoder_outputs, decoder_fwd, decoder_bwd = decoder_LSTM(decoder_embedding, initial_state = encoder_states)"
   ]
  },
  {
   "cell_type": "code",
   "execution_count": 35,
   "id": "7198de42",
   "metadata": {},
   "outputs": [
    {
     "data": {
      "text/plain": [
       "<KerasTensor: shape=(None, None, 150) dtype=float32 (created by layer 'lstm_2')>"
      ]
     },
     "execution_count": 35,
     "metadata": {},
     "output_type": "execute_result"
    }
   ],
   "source": [
    "decoder_outputs"
   ]
  },
  {
   "cell_type": "code",
   "execution_count": 36,
   "id": "aa770d61",
   "metadata": {},
   "outputs": [],
   "source": [
    "# Attention Layer\n",
    "attn_layer = AttentionLayer(name = 'attention_layer')\n",
    "attn_out, attn_states = attn_layer([encoder_outputs_final, decoder_outputs])"
   ]
  },
  {
   "cell_type": "code",
   "execution_count": 37,
   "id": "1a703ea4",
   "metadata": {},
   "outputs": [],
   "source": [
    "# Concatenating decoder outputs with attention layer outputs\n",
    "decoder_concat_input = Concatenate(axis = -1, name = 'concat_layer')([decoder_outputs, attn_out])"
   ]
  },
  {
   "cell_type": "code",
   "execution_count": 38,
   "id": "1cf9ae16",
   "metadata": {},
   "outputs": [],
   "source": [
    "decoder_dense = TimeDistributed(Dense(y_voc_size, activation = 'softmax'))\n",
    "decoder_outputs = decoder_dense(decoder_concat_input)"
   ]
  },
  {
   "cell_type": "code",
   "execution_count": 39,
   "id": "a427be7f",
   "metadata": {},
   "outputs": [],
   "source": [
    "# Final Model\n",
    "model = Model([encoder_inputs, decoder_inputs], decoder_outputs)"
   ]
  },
  {
   "cell_type": "code",
   "execution_count": 40,
   "id": "b4dc8393",
   "metadata": {},
   "outputs": [
    {
     "name": "stdout",
     "output_type": "stream",
     "text": [
      "Model: \"model\"\n",
      "__________________________________________________________________________________________________\n",
      " Layer (type)                   Output Shape         Param #     Connected to                     \n",
      "==================================================================================================\n",
      " input_1 (InputLayer)           [(None, 900)]        0           []                               \n",
      "                                                                                                  \n",
      " embedding (Embedding)          (None, 900, 500)     237614000   ['input_1[0][0]']                \n",
      "                                                                                                  \n",
      " input_2 (InputLayer)           [(None, None)]       0           []                               \n",
      "                                                                                                  \n",
      " lstm (LSTM)                    [(None, 900, 150),   390600      ['embedding[0][0]']              \n",
      "                                 (None, 150),                                                     \n",
      "                                 (None, 150)]                                                     \n",
      "                                                                                                  \n",
      " lstm_1 (LSTM)                  [(None, 900, 150),   390600      ['embedding[0][0]']              \n",
      "                                 (None, 150),                                                     \n",
      "                                 (None, 150)]                                                     \n",
      "                                                                                                  \n",
      " embedding_1 (Embedding)        (None, None, 500)    68200500    ['input_2[0][0]']                \n",
      "                                                                                                  \n",
      " add (Add)                      (None, 150)          0           ['lstm[0][1]',                   \n",
      "                                                                  'lstm_1[0][1]']                 \n",
      "                                                                                                  \n",
      " add_1 (Add)                    (None, 150)          0           ['lstm[0][2]',                   \n",
      "                                                                  'lstm_1[0][2]']                 \n",
      "                                                                                                  \n",
      " lstm_2 (LSTM)                  [(None, None, 150),  390600      ['embedding_1[0][0]',            \n",
      "                                 (None, 150),                     'add[0][0]',                    \n",
      "                                 (None, 150)]                     'add_1[0][0]']                  \n",
      "                                                                                                  \n",
      " add_2 (Add)                    (None, 900, 150)     0           ['lstm[0][0]',                   \n",
      "                                                                  'lstm_1[0][0]']                 \n",
      "                                                                                                  \n",
      " attention_layer (AttentionLaye  ((None, None, 150),  45150      ['add_2[0][0]',                  \n",
      " r)                              (None, None, 900))               'lstm_2[0][0]']                 \n",
      "                                                                                                  \n",
      " concat_layer (Concatenate)     (None, None, 300)    0           ['lstm_2[0][0]',                 \n",
      "                                                                  'attention_layer[0][0]']        \n",
      "                                                                                                  \n",
      " time_distributed (TimeDistribu  (None, None, 136401  41056701   ['concat_layer[0][0]']           \n",
      " ted)                           )                                                                 \n",
      "                                                                                                  \n",
      "==================================================================================================\n",
      "Total params: 348,088,151\n",
      "Trainable params: 348,088,151\n",
      "Non-trainable params: 0\n",
      "__________________________________________________________________________________________________\n"
     ]
    }
   ],
   "source": [
    "model.summary()"
   ]
  },
  {
   "cell_type": "code",
   "execution_count": 41,
   "id": "4adeffc4",
   "metadata": {
    "executionInfo": {
     "elapsed": 96,
     "status": "ok",
     "timestamp": 1650810753347,
     "user": {
      "displayName": "Samar Deep",
      "userId": "08355967773439078772"
     },
     "user_tz": 240
    },
    "id": "79fe3d3a"
   },
   "outputs": [],
   "source": [
    "#RMSProp Optimizer with gradient clipping\n",
    "rmsprop = RMSprop(lr = 0.005, clipvalue = 1.0)\n",
    "model.compile(optimizer = rmsprop, loss = 'sparse_categorical_crossentropy')"
   ]
  },
  {
   "cell_type": "code",
   "execution_count": 42,
   "id": "be40d6c6",
   "metadata": {
    "colab": {
     "base_uri": "https://localhost:8080/"
    },
    "id": "7c854cda",
    "outputId": "4e32ea55-65b8-40ce-9071-5b7bc14167d7",
    "scrolled": true
   },
   "outputs": [
    {
     "name": "stdout",
     "output_type": "stream",
     "text": [
      "Epoch 1/10\n"
     ]
    },
    {
     "name": "stderr",
     "output_type": "stream",
     "text": [
      "2022-05-01 22:12:24.344597: I tensorflow/stream_executor/cuda/cuda_dnn.cc:368] Loaded cuDNN version 8300\n"
     ]
    },
    {
     "name": "stdout",
     "output_type": "stream",
     "text": [
      "1019/1019 [==============================] - 1091s 1s/step - loss: 3.4583 - val_loss: 3.1284\n",
      "Epoch 2/10\n",
      "1019/1019 [==============================] - 1070s 1s/step - loss: 3.0478 - val_loss: 2.9877\n",
      "Epoch 3/10\n",
      "1019/1019 [==============================] - 1071s 1s/step - loss: 2.8992 - val_loss: 2.9295\n",
      "Epoch 4/10\n",
      "1019/1019 [==============================] - 1071s 1s/step - loss: 2.8089 - val_loss: 2.9125\n",
      "Epoch 5/10\n",
      "1019/1019 [==============================] - 1071s 1s/step - loss: 2.7429 - val_loss: 2.9032\n",
      "Epoch 6/10\n",
      "1019/1019 [==============================] - 1072s 1s/step - loss: 2.6930 - val_loss: 2.9094\n",
      "Epoch 7/10\n",
      "1019/1019 [==============================] - 1071s 1s/step - loss: 2.6438 - val_loss: 2.9080\n",
      "Epoch 8/10\n",
      "1019/1019 [==============================] - 1071s 1s/step - loss: 2.5985 - val_loss: 2.9159\n",
      "Epoch 9/10\n",
      "1019/1019 [==============================] - 1071s 1s/step - loss: 2.5611 - val_loss: 2.9217\n",
      "Epoch 10/10\n",
      "1019/1019 [==============================] - 1071s 1s/step - loss: 2.5258 - val_loss: 2.9268\n"
     ]
    }
   ],
   "source": [
    "# Training the model\n",
    "history = model.fit([X_train, y_train[:, :-1]], y_train.reshape(y_train.shape[0], y_train.shape[1], 1)[:, 1:],\n",
    "                    epochs = 10, batch_size = 128,\n",
    "                    validation_data = ([X_val, y_val[:, :-1]], y_val.reshape(y_val.shape[0], y_val.shape[1], 1)[:, 1:]))"
   ]
  },
  {
   "cell_type": "code",
   "execution_count": 43,
   "id": "afe0e258",
   "metadata": {
    "colab": {
     "base_uri": "https://localhost:8080/",
     "height": 236
    },
    "executionInfo": {
     "elapsed": 5,
     "status": "error",
     "timestamp": 1650810095836,
     "user": {
      "displayName": "Samar Deep",
      "userId": "08355967773439078772"
     },
     "user_tz": 240
    },
    "id": "05405f0a",
    "outputId": "a2dc1870-7321-4169-bfe9-2cc9218cd1ce"
   },
   "outputs": [
    {
     "data": {
      "image/png": "[encoded data removed]",
      "text/plain": [
       "<Figure size 432x288 with 1 Axes>"
      ]
     },
     "metadata": {
      "needs_background": "light"
     },
     "output_type": "display_data"
    }
   ],
   "source": [
    "# Plotting the train-test loss curves\n",
    "plt.plot(history.history['loss'], label='train') \n",
    "plt.plot(history.history['val_loss'], label='test') \n",
    "plt.xticks(ticks = range(10), labels = range(1, 11))\n",
    "plt.xlabel(\"Number of Epochs\")\n",
    "plt.ylabel(\"Loss\")\n",
    "plt.legend()\n",
    "plt.show()"
   ]
  },
  {
   "cell_type": "code",
   "execution_count": 44,
   "id": "73de669e",
   "metadata": {
    "executionInfo": {
     "elapsed": 89,
     "status": "ok",
     "timestamp": 1650769544338,
     "user": {
      "displayName": "Samar Deep",
      "userId": "08355967773439078772"
     },
     "user_tz": 240
    },
    "id": "0b2aac10"
   },
   "outputs": [],
   "source": [
    "# Creating a reverse mapping from integer to words\n",
    "reverse_sum_word_index = sum_tokenizer.index_word\n",
    "reverse_art_word_index = art_tokenizer.index_word\n",
    "sum_word_index = sum_tokenizer.word_index"
   ]
  },
  {
   "cell_type": "code",
   "execution_count": 45,
   "id": "8ba0558a",
   "metadata": {
    "executionInfo": {
     "elapsed": 293,
     "status": "ok",
     "timestamp": 1650769629669,
     "user": {
      "displayName": "Samar Deep",
      "userId": "08355967773439078772"
     },
     "user_tz": 240
    },
    "id": "DC9cro_b8qxK"
   },
   "outputs": [],
   "source": [
    "# Inference phase\n",
    "encoder_model_inf = Model(inputs = encoder_inputs, outputs = [encoder_outputs_final, final_h, final_c])\n",
    "\n",
    "decoder_state_input_h = Input(shape = (HIDDEN_UNITS, ))\n",
    "decoder_state_input_c = Input(shape = (HIDDEN_UNITS, ))\n",
    "decoder_hidden_state_input = Input(shape = (max_len_article, HIDDEN_UNITS))\n",
    "dec_emb2 = decoder_emb(decoder_inputs)\n",
    "decoder_outputs2, state_h2, state_c2 = decoder_LSTM(dec_emb2, initial_state = [decoder_state_input_h, decoder_state_input_c])\n",
    "\n",
    "attn_out_inf, attn_states_inf = attn_layer([decoder_hidden_state_input, decoder_outputs2])\n",
    "decoder_inf_concat = Concatenate(axis = -1, name = 'concat')([decoder_outputs2, attn_out_inf])\n",
    "decoder_outputs2 = decoder_dense(decoder_inf_concat)\n",
    "decoder_model_inf = Model([decoder_inputs] + [decoder_hidden_state_input, decoder_state_input_h, decoder_state_input_c],\n",
    "                      [decoder_outputs2] + [state_h2, state_c2])"
   ]
  },
  {
   "cell_type": "code",
   "execution_count": 46,
   "id": "c6705ef6",
   "metadata": {
    "executionInfo": {
     "elapsed": 95,
     "status": "ok",
     "timestamp": 1650770413743,
     "user": {
      "displayName": "Samar Deep",
      "userId": "08355967773439078772"
     },
     "user_tz": 240
    },
    "id": "eGNEQCES8rgp"
   },
   "outputs": [],
   "source": [
    "# Function to generate summaries using the inference model\n",
    "def decode_seq(input):\n",
    "    e_out, e_h, e_c = encoder_model_inf.predict(input)\n",
    "\n",
    "    target_seq = np.zeros((1, 1))\n",
    "    target_seq[0, 0] = sum_word_index['sostok']\n",
    "\n",
    "    stop_condition = False\n",
    "    # Final Summary\n",
    "    decoded_sentence = ''\n",
    "\n",
    "    while not stop_condition:\n",
    "        # Passing <sostok> token as first input to decoder for inference\n",
    "        output_tokens, h, c = decoder_model_inf.predict([target_seq] + [e_out, e_h, e_c])\n",
    "        \n",
    "        # Using argmax to select the next word in the summary\n",
    "        sampled_token_index = np.argmax(output_tokens[0, -1, :])\n",
    "        \n",
    "        try:\n",
    "            # Converting the returned integer token to word\n",
    "            sampled_token = reverse_sum_word_index[sampled_token_index]\n",
    "        except KeyError:\n",
    "            continue\n",
    "        \n",
    "        if sampled_token != 'eostok':\n",
    "            decoded_sentence += \" \"+sampled_token\n",
    "\n",
    "        if (sampled_token == 'eostok' or len(decoded_sentence.split()) >= max_len_summary - 1):\n",
    "            stop_condition = True\n",
    "        target_seq = np.zeros((1, 1))\n",
    "        \n",
    "        # Sending the returned integer token as input to the decoder in the next time step\n",
    "        target_seq[0, 0] = sampled_token_index\n",
    "        \n",
    "        # Updating the states of the decoder\n",
    "        e_h, e_c = h, c\n",
    "\n",
    "    return decoded_sentence"
   ]
  },
  {
   "cell_type": "code",
   "execution_count": 47,
   "id": "1cf5fa86",
   "metadata": {
    "executionInfo": {
     "elapsed": 83,
     "status": "ok",
     "timestamp": 1650770868196,
     "user": {
      "displayName": "Samar Deep",
      "userId": "08355967773439078772"
     },
     "user_tz": 240
    },
    "id": "Cq-3xF_e8sln"
   },
   "outputs": [],
   "source": [
    "# Function to print the original summary from integer tokens\n",
    "def seq2seqsummary(input):\n",
    "    new_string = ' '\n",
    "    for i in input:\n",
    "        if ((i!=0 and i!= sum_word_index['sostok']) and i!= sum_word_index['eostok']):\n",
    "            try:\n",
    "                new_string = new_string + reverse_sum_word_index[i] + ' '\n",
    "            except KeyError:\n",
    "                continue\n",
    "    return new_string\n",
    "\n",
    "#Function to print the original articles from integer tokens\n",
    "def seq2seqtext(input):\n",
    "    new_string = ' '\n",
    "    for i in input:\n",
    "        if i != 0:\n",
    "            try:\n",
    "                new_string = new_string + reverse_art_word_index[i] + ' '\n",
    "            except KeyError:\n",
    "                continue\n",
    "    return new_string\n"
   ]
  },
  {
   "cell_type": "code",
   "execution_count": 48,
   "id": "38f7dab7",
   "metadata": {},
   "outputs": [],
   "source": [
    "# Generating the predicted summaries\n",
    "predicted_summary = []\n",
    "original_summary = []\n",
    "for i in range(1000):\n",
    "    pred_sum = decode_seq(X_val[i].reshape(1, max_len_article))\n",
    "    orig_sum = seq2seqsummary(y_val[i])\n",
    "    predicted_summary.append(pred_sum)\n",
    "    original_summary.append(orig_sum)"
   ]
  },
  {
   "cell_type": "code",
   "execution_count": 49,
   "id": "6ecb9696",
   "metadata": {
    "id": "d7fd79d0"
   },
   "outputs": [],
   "source": [
    "# Creating a data frame to store the original and predicted summaries\n",
    "summary_df = pd.DataFrame({\"Predicted\" : predicted_summary, \"Original\" : original_summary})\n",
    "summary_df.to_csv(\"summary_df_0.005_128_attention.csv\")"
   ]
  },
  {
   "cell_type": "code",
   "execution_count": 50,
   "id": "5f15f72c",
   "metadata": {
    "id": "ad022bf4"
   },
   "outputs": [],
   "source": [
    "# Calculating the ROUGE-L score by comparing the predicted and original summaries\n",
    "scorer_dict = {}\n",
    "scorer = rouge_scorer.RougeScorer(['rougeL'], use_stemmer = True)\n",
    "for i in range(len(summary_df)):\n",
    "    scores = scorer.score(summary_df['Original'][i], summary_df['Predicted'][i])\n",
    "    scorer_dict[str(i) + '_rougeL'] = scores['rougeL']"
   ]
  },
  {
   "cell_type": "code",
   "execution_count": 51,
   "id": "c169b6ff",
   "metadata": {
    "id": "08603c71"
   },
   "outputs": [],
   "source": [
    "# Segregating the ROUGE-L score dictionary\n",
    "precision_lst = []\n",
    "recall_lst = []\n",
    "f1_lst = []\n",
    "\n",
    "for key in scorer_dict.keys():\n",
    "    precision_lst.append(scorer_dict[key][0])\n",
    "    recall_lst.append(scorer_dict[key][1])\n",
    "    f1_lst.append(scorer_dict[key][2])"
   ]
  },
  {
   "cell_type": "code",
   "execution_count": null,
   "id": "600d128d",
   "metadata": {
    "id": "770de373"
   },
   "outputs": [],
   "source": []
  },
  {
   "cell_type": "code",
   "execution_count": null,
   "id": "65d13e4c",
   "metadata": {
    "id": "df41ecab"
   },
   "outputs": [],
   "source": []
  },
  {
   "cell_type": "code",
   "execution_count": null,
   "id": "2f36ba2c",
   "metadata": {
    "id": "0e77358c"
   },
   "outputs": [],
   "source": []
  },
  {
   "cell_type": "code",
   "execution_count": null,
   "id": "32c19fb3",
   "metadata": {
    "id": "6283667d"
   },
   "outputs": [],
   "source": []
  },
  {
   "cell_type": "code",
   "execution_count": null,
   "id": "936582bf",
   "metadata": {
    "id": "3b0c977f"
   },
   "outputs": [],
   "source": []
  },
  {
   "cell_type": "code",
   "execution_count": null,
   "id": "73f9970c",
   "metadata": {
    "id": "b066e325"
   },
   "outputs": [],
   "source": []
  },
  {
   "cell_type": "code",
   "execution_count": null,
   "id": "a1f55a03",
   "metadata": {
    "id": "5da37b56"
   },
   "outputs": [],
   "source": []
  },
  {
   "cell_type": "code",
   "execution_count": null,
   "id": "aea641fa",
   "metadata": {
    "id": "adf370b7"
   },
   "outputs": [],
   "source": []
  },
  {
   "cell_type": "code",
   "execution_count": null,
   "id": "d1df44e9",
   "metadata": {
    "id": "2dac9c8b"
   },
   "outputs": [],
   "source": []
  },
  {
   "cell_type": "code",
   "execution_count": null,
   "id": "981793cd",
   "metadata": {
    "id": "145b1a97"
   },
   "outputs": [],
   "source": []
  },
  {
   "cell_type": "code",
   "execution_count": null,
   "id": "5288dac1",
   "metadata": {
    "id": "a264af75"
   },
   "outputs": [],
   "source": []
  },
  {
   "cell_type": "code",
   "execution_count": null,
   "id": "ceee9959",
   "metadata": {
    "id": "b347b3ec"
   },
   "outputs": [],
   "source": []
  },
  {
   "cell_type": "code",
   "execution_count": null,
   "id": "60de9c0d",
   "metadata": {
    "id": "93e5cca1"
   },
   "outputs": [],
   "source": []
  },
  {
   "cell_type": "code",
   "execution_count": null,
   "id": "a634f5a6",
   "metadata": {
    "id": "8e27f089"
   },
   "outputs": [],
   "source": []
  }
 ],
 "metadata": {
  "accelerator": "TPU",
  "colab": {
   "machine_shape": "hm",
   "name": "Copy of Abstractive Text Summ-Copy2.ipynb",
   "provenance": [
    {
     "file_id": "1QrSiXs3oOqYKmohU51AypEmMbFmKgEVF",
     "timestamp": 1650811498659
    }
   ]
  },
  "kernelspec": {
   "display_name": "Python 3 (ipykernel)",
   "language": "python",
   "name": "python3"
  },
  "language_info": {
   "codemirror_mode": {
    "name": "ipython",
    "version": 3
   },
   "file_extension": ".py",
   "mimetype": "text/x-python",
   "name": "python",
   "nbconvert_exporter": "python",
   "pygments_lexer": "ipython3",
   "version": "3.10.2"
  }
 },
 "nbformat": 4,
 "nbformat_minor": 5
}
